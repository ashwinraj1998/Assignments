{
 "cells": [
  {
   "cell_type": "code",
   "execution_count": 1,
   "id": "e98343f7-fe68-407f-97e1-0a1e3544ed95",
   "metadata": {},
   "outputs": [
    {
     "name": "stdout",
     "output_type": "stream",
     "text": [
      "Hello Python\n"
     ]
    }
   ],
   "source": [
    "#1. Write a Python program to print \"Hello Python\"?\n",
    "\n",
    "print(\"Hello Python\")"
   ]
  },
  {
   "cell_type": "code",
   "execution_count": 2,
   "id": "f0233676-93bd-499b-a734-e63d2da6f56c",
   "metadata": {},
   "outputs": [
    {
     "name": "stdin",
     "output_type": "stream",
     "text": [
      "Enter the Fisrt Number :  20\n",
      "Enter the Second Number :  5\n"
     ]
    },
    {
     "name": "stdout",
     "output_type": "stream",
     "text": [
      "The sum of 20 and 5 is  25\n",
      "The quotiient when 20 divided by 5 is  4.0\n"
     ]
    }
   ],
   "source": [
    "#2. Write a Python program to do arithmetical operations addition and division.?\n",
    "\n",
    "a = int(input(\"Enter the Fisrt Number : \"))\n",
    "b = int(input(\"Enter the Second Number : \"))\n",
    "\n",
    "print(f\"The sum of {a} and {b} is \",a+b)\n",
    "print(f\"The quotiient when {a} divided by {b} is \",a/b)\n"
   ]
  },
  {
   "cell_type": "code",
   "execution_count": 4,
   "id": "96be115f-59df-4ef6-a925-65c2fc875c07",
   "metadata": {},
   "outputs": [
    {
     "name": "stdin",
     "output_type": "stream",
     "text": [
      "Enter Base value (in m) :  5\n",
      "Enter Height value (in m) :  10\n"
     ]
    },
    {
     "name": "stdout",
     "output_type": "stream",
     "text": [
      "\n",
      "Area of Triangle is 25.0 sq.meter\n"
     ]
    }
   ],
   "source": [
    "#3.\tWrite a Python program to find the area of a triangle?\n",
    "a = int(input(\"Enter Base value (in m) : \"))\n",
    "b = int(input(\"Enter Height value (in m) : \"))\n",
    "\n",
    "print(f\"\\nArea of Triangle is {0.5*a*b} sq.meter\")"
   ]
  },
  {
   "cell_type": "code",
   "execution_count": 6,
   "id": "01c5af30-00a2-4ee6-92d4-15b4a6de2214",
   "metadata": {},
   "outputs": [
    {
     "name": "stdin",
     "output_type": "stream",
     "text": [
      "Enter a Value_1 :  20\n",
      "Enter a Value_2 :  10\n"
     ]
    },
    {
     "name": "stdout",
     "output_type": "stream",
     "text": [
      "\n",
      "Values Before Swap : Value_1 = 20 and Value_2 = 10\n",
      "\n",
      "Values After Swap : Value_1 = 10 and Value_2 = 20\n"
     ]
    }
   ],
   "source": [
    "#4.\tWrite a Python program to swap two variables?\n",
    "a = int(input(\"Enter a Value_1 : \"))\n",
    "b = int(input(\"Enter a Value_2 : \"))\n",
    "print(f\"\\nValues Before Swap : Value_1 = {a} and Value_2 = {b}\")\n",
    "c = a\n",
    "a = b\n",
    "b = c\n",
    "print(f\"\\nValues After Swap : Value_1 = {a} and Value_2 = {b}\")\n"
   ]
  },
  {
   "cell_type": "code",
   "execution_count": 13,
   "id": "24f2edf6-c9e2-45cf-b4dd-affdefdec369",
   "metadata": {},
   "outputs": [
    {
     "data": {
      "text/plain": [
       "49"
      ]
     },
     "execution_count": 13,
     "metadata": {},
     "output_type": "execute_result"
    }
   ],
   "source": [
    "#5.\tWrite a Python program to generate a random number?\n",
    "from random import randint\n",
    "randint(0,100)"
   ]
  },
  {
   "cell_type": "code",
   "execution_count": null,
   "id": "a7f0497e-4622-4010-935c-45a40221a7bd",
   "metadata": {},
   "outputs": [],
   "source": []
  },
  {
   "cell_type": "code",
   "execution_count": null,
   "id": "461fc5f6-c005-4244-8d16-0091638ea6d5",
   "metadata": {},
   "outputs": [],
   "source": []
  }
 ],
 "metadata": {
  "kernelspec": {
   "display_name": "Python 3 (ipykernel)",
   "language": "python",
   "name": "python3"
  },
  "language_info": {
   "codemirror_mode": {
    "name": "ipython",
    "version": 3
   },
   "file_extension": ".py",
   "mimetype": "text/x-python",
   "name": "python",
   "nbconvert_exporter": "python",
   "pygments_lexer": "ipython3",
   "version": "3.10.6"
  }
 },
 "nbformat": 4,
 "nbformat_minor": 5
}
