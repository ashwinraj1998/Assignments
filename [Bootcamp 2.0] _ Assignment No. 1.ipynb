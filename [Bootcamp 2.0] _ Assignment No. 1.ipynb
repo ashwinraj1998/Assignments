{
 "cells": [
  {
   "cell_type": "code",
   "execution_count": 1,
   "id": "804b021e",
   "metadata": {},
   "outputs": [],
   "source": [
    "###[Bootcamp 2.0 | Assignment No. 1"
   ]
  },
  {
   "cell_type": "code",
   "execution_count": null,
   "id": "e79b8678",
   "metadata": {},
   "outputs": [],
   "source": [
    "\"\"\"\n",
    "1. Find out all the types of error that we have encountered in our lecture and why? Also include the examples.\n",
    "    Name Error : \n",
    "                a = 100\n",
    "                print(A)\n",
    "                \n",
    "                This gives Name Error. Since python is case sensitive.\n",
    "                \n",
    "    Type Error :\n",
    "                print = \"50\"\n",
    "                print(\"Hi!\")\n",
    "                \n",
    "                This gives Type Error because we have assigned value for the reserved words (Keywords). By doing this it loses its ability to act as a funtion. \n",
    "                \n",
    "                a = 50 + \"Half\"\n",
    "                print(a)\n",
    "                \n",
    "                This also gives Type Error because concatenated can be done between same data type values.\n",
    "    \n",
    "    \n",
    "    Syntax Error:\n",
    "                int A\n",
    "                \n",
    "                This error occurs when unassigned variables are called and also when the syntax is misspelled.\n",
    "                \n",
    "    Value Error:\n",
    "                \n",
    "                a = \"Ashwin\"\n",
    "                print(int(a))\n",
    "                \n",
    "                This gives value error because string cannot be typecasted to integer.\n",
    "                \n",
    "\"\"\""
   ]
  },
  {
   "cell_type": "code",
   "execution_count": 14,
   "id": "533430e7",
   "metadata": {},
   "outputs": [
    {
     "name": "stdout",
     "output_type": "stream",
     "text": [
      "Enter the Fisrt Number : 20\n",
      "Enter the Second Number : 5\n",
      "The sum of 20 and 5 is  25\n",
      "The difference between 20 and 5 is  15\n",
      "The product of 20 and 5 is  100\n",
      "The quotiient when 20 divided by 5 is  4.0\n",
      "The square of numbers 20 and 5 are 400 and 25\n"
     ]
    }
   ],
   "source": [
    "###2. Take input A and B and print their sum, mul, div, square of the nos.\n",
    "\n",
    "a = int(input(\"Enter the Fisrt Number : \"))\n",
    "b = int(input(\"Enter the Second Number : \"))\n",
    "\n",
    "print(f\"The sum of {a} and {b} is \",a+b)\n",
    "print(f\"The difference between {a} and {b} is \",a-b)\n",
    "print(f\"The product of {a} and {b} is \",a*b)\n",
    "print(f\"The quotiient when {a} divided by {b} is \",a/b)\n",
    "print(f\"The square of numbers {a} and {b} are {a**2} and {b**2}\")"
   ]
  },
  {
   "cell_type": "code",
   "execution_count": 15,
   "id": "04efafb2",
   "metadata": {},
   "outputs": [
    {
     "name": "stdout",
     "output_type": "stream",
     "text": [
      "\n",
      "Here is a list of the Python keywords.  Enter any keyword to get more help.\n",
      "\n",
      "False               break               for                 not\n",
      "None                class               from                or\n",
      "True                continue            global              pass\n",
      "__peg_parser__      def                 if                  raise\n",
      "and                 del                 import              return\n",
      "as                  elif                in                  try\n",
      "assert              else                is                  while\n",
      "async               except              lambda              with\n",
      "await               finally             nonlocal            yield\n",
      "\n"
     ]
    }
   ],
   "source": [
    "## 3. How many reserve keywords are there in python and why we should not use them as a variable name.\n",
    "\n",
    "\"\"\" There are 36 keywords in python. When keywords used as variable they lose their functionality.\"\"\"\n",
    "\n",
    "help(\"keywords\")\n"
   ]
  },
  {
   "cell_type": "code",
   "execution_count": 20,
   "id": "ba84efd0",
   "metadata": {},
   "outputs": [
    {
     "name": "stdout",
     "output_type": "stream",
     "text": [
      "Enter your First Name : Ashwin\n",
      "Enter your Last Name : Raj\n",
      "\n",
      "Your Email ID : ashwin.raj@gmail.com\n",
      "\n",
      "Email ID generated Successfully!!!\n"
     ]
    }
   ],
   "source": [
    "## 4. Create email ids with the user inputs. in the following format - lastname.firstname@gmail.com\n",
    "\n",
    "a = input(\"Enter your First Name : \")\n",
    "b = input(\"Enter your Last Name : \")\n",
    "\n",
    "print(f\"\\nYour Email ID : {a.lower()}.{b.lower()}@gmail.com\")\n",
    "print(\"\\nEmail ID generated Successfully!!!\")"
   ]
  },
  {
   "cell_type": "code",
   "execution_count": 21,
   "id": "723b43ac",
   "metadata": {},
   "outputs": [
    {
     "name": "stdout",
     "output_type": "stream",
     "text": [
      "Hi I'm Sunny\n",
      "My address is 22\u0003\n",
      "I earn 20$ daily.\n"
     ]
    }
   ],
   "source": [
    "## 5. Try to print the following lines - Hi I'm Sunny My address is 22\\3 I earn 20$ daily.\n",
    "\n",
    "print(\"\"\"Hi I'm Sunny\n",
    "My address is 22\\3\n",
    "I earn 20$ daily.\"\"\")"
   ]
  },
  {
   "cell_type": "code",
   "execution_count": 39,
   "id": "6e7a8141",
   "metadata": {},
   "outputs": [
    {
     "name": "stdout",
     "output_type": "stream",
     "text": [
      "Student Name : Ashwin Raj\n",
      "Department (ME/CSE/CIVIL/IT) : ME\n",
      "Year of Joining (20__): 16\n",
      "Address : Salem\n",
      "Date of Birth (DD/MM/YYYY) : 29/02/2000\n",
      "\n",
      "Student Email ID : ashwinraj.me16@ineuron.ai\n",
      "\n",
      "Email ID generated Successfully!!!\n"
     ]
    }
   ],
   "source": [
    "## 6. Take user input (name, address, date of birth etc) to fill a form for your college and print their email IDs\n",
    "\n",
    "a = input(\"Student Name : \").replace(\" \",\"\")\n",
    "b = input(\"Department (ME/CSE/CIVIL/IT) : \")\n",
    "c = input(\"Year of Joining (20__): \")\n",
    "d = input(\"Address : \")\n",
    "e = input(\"Date of Birth (DD/MM/YYYY) : \")\n",
    "\n",
    "print(f\"\\nStudent Email ID : {a.lower()}.{b.lower()}{c}@ineuron.ai\")\n",
    "print(\"\\nEmail ID generated Successfully!!!\")\n",
    " "
   ]
  },
  {
   "cell_type": "code",
   "execution_count": 35,
   "id": "ef3bbc82",
   "metadata": {},
   "outputs": [
    {
     "name": "stdout",
     "output_type": "stream",
     "text": [
      "22\n",
      "(22+0j)\n"
     ]
    }
   ],
   "source": [
    "## 7. Convert the following - \"22.4\" into integer \"22\" into complex no.\n",
    "\n",
    "a=\"22.4\"\n",
    "b=\"22\"\n",
    "\n",
    "c= int(float(a))\n",
    "d= complex(b)\n",
    "\n",
    "print(c)\n",
    "print(d)"
   ]
  },
  {
   "cell_type": "code",
   "execution_count": null,
   "id": "71404399",
   "metadata": {},
   "outputs": [],
   "source": []
  },
  {
   "cell_type": "code",
   "execution_count": null,
   "id": "a3c6b137",
   "metadata": {},
   "outputs": [],
   "source": []
  }
 ],
 "metadata": {
  "kernelspec": {
   "display_name": "Python 3 (ipykernel)",
   "language": "python",
   "name": "python3"
  },
  "language_info": {
   "codemirror_mode": {
    "name": "ipython",
    "version": 3
   },
   "file_extension": ".py",
   "mimetype": "text/x-python",
   "name": "python",
   "nbconvert_exporter": "python",
   "pygments_lexer": "ipython3",
   "version": "3.9.12"
  }
 },
 "nbformat": 4,
 "nbformat_minor": 5
}
