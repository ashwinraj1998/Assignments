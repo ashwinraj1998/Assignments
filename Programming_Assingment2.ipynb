{
 "cells": [
  {
   "cell_type": "code",
   "execution_count": 3,
   "id": "ea6dea1b-0a00-4e99-93f3-94bbcea0d336",
   "metadata": {},
   "outputs": [
    {
     "name": "stdin",
     "output_type": "stream",
     "text": [
      "Enter Kilometers :  5\n"
     ]
    },
    {
     "name": "stdout",
     "output_type": "stream",
     "text": [
      "\n",
      "5 Kilometers = 3.11 miles\n"
     ]
    }
   ],
   "source": [
    "#1.\tWrite a Python program to convert kilometers to miles?\n",
    "\n",
    "a= int(input(\"Enter Kilometers : \"))\n",
    "\n",
    "print(f\"\\n{a} Kilometers = {a/1.609:.2f} miles\")"
   ]
  },
  {
   "cell_type": "code",
   "execution_count": 10,
   "id": "a71e9162-540c-4c43-aed5-71d0cd2ce681",
   "metadata": {},
   "outputs": [
    {
     "name": "stdin",
     "output_type": "stream",
     "text": [
      "Enter Celsius Value :  41\n"
     ]
    },
    {
     "name": "stdout",
     "output_type": "stream",
     "text": [
      "\n",
      "41 Celsius = 105.80 Fahrenheit\n"
     ]
    }
   ],
   "source": [
    "#2.\tWrite a Python program to convert Celsius to Fahrenheit?\n",
    "\n",
    "a= int(input(\"Enter Celsius Value : \"))\n",
    "print(f\"\\n{a} Celsius = {(a*(9/5))+32:.2f} Fahrenheit\")"
   ]
  },
  {
   "cell_type": "code",
   "execution_count": 14,
   "id": "69008b4a-9b2f-498e-b003-6b65bd3b460f",
   "metadata": {},
   "outputs": [
    {
     "name": "stdin",
     "output_type": "stream",
     "text": [
      "Enter the Year (YYYY) :  2022\n",
      "Enter the Month (MM) :  11\n"
     ]
    },
    {
     "name": "stdout",
     "output_type": "stream",
     "text": [
      "\n",
      "    November 2022\n",
      "Mo Tu We Th Fr Sa Su\n",
      "    1  2  3  4  5  6\n",
      " 7  8  9 10 11 12 13\n",
      "14 15 16 17 18 19 20\n",
      "21 22 23 24 25 26 27\n",
      "28 29 30\n",
      "\n"
     ]
    }
   ],
   "source": [
    "#3. Write a Python program to display calendar?\n",
    "\n",
    "import calendar\n",
    "\n",
    "y=int(input(\"Enter the Year (YYYY) : \"))\n",
    "m=int(input(\"Enter the Month (MM) : \"))\n",
    "print(\"\\n\",calendar.month(y,m))"
   ]
  },
  {
   "cell_type": "code",
   "execution_count": 16,
   "id": "26572f4e-8513-48af-8d51-704782df1eab",
   "metadata": {},
   "outputs": [
    {
     "name": "stdout",
     "output_type": "stream",
     "text": [
      "The General Form of Quadratic Equation is ax2 + bx + c = 0\n"
     ]
    },
    {
     "name": "stdin",
     "output_type": "stream",
     "text": [
      "Enter Value of a :  1\n",
      "Enter Value of b :  -3\n",
      "Enter Value of c :  1\n"
     ]
    },
    {
     "name": "stdout",
     "output_type": "stream",
     "text": [
      "\n",
      "The Solutions are 2.618,0.382\n"
     ]
    }
   ],
   "source": [
    "#4.\tWrite a Python program to solve quadratic equation?\n",
    "import math as m\n",
    "print(\"The General Form of Quadratic Equation is ax2 + bx + c = 0\")\n",
    "\n",
    "a=int(input(\"Enter Value of a : \"))\n",
    "b=int(input(\"Enter Value of b : \"))\n",
    "c=int(input(\"Enter Value of c : \"))\n",
    "\n",
    "x1 = (-b+m.sqrt((b**2)-(4*a*c)))/2*a\n",
    "x2 = (-b-m.sqrt((b**2)-(4*a*c)))/2*a\n",
    "\n",
    "print(f\"\\nThe Solutions are {x1:.3f},{x2:.3f}\")\n",
    "\n",
    "\n"
   ]
  },
  {
   "cell_type": "code",
   "execution_count": 19,
   "id": "9800ee81-ff9c-4056-a5a4-daf5fe4e20d5",
   "metadata": {},
   "outputs": [
    {
     "name": "stdin",
     "output_type": "stream",
     "text": [
      "Enter Value_1 :  50\n",
      "Enter Value_2 :  20\n"
     ]
    },
    {
     "name": "stdout",
     "output_type": "stream",
     "text": [
      "\n",
      "Values Before Swap : Value_1 = 50 and Value_2 = 20\n",
      "\n",
      "Values After Swap : Value_1 = 20 and Value_2 = 50\n"
     ]
    }
   ],
   "source": [
    "#5.\tWrite a Python program to swap two variables without temp variable?\n",
    "\n",
    "a=int(input(\"Enter Value_1 : \"))\n",
    "b=int(input(\"Enter Value_2 : \"))\n",
    "print(f\"\\nValues Before Swap : Value_1 = {a} and Value_2 = {b}\")\n",
    "\n",
    "a=a+b\n",
    "b=a-b\n",
    "a=a-b\n",
    "\n",
    "print(f\"\\nValues After Swap : Value_1 = {a} and Value_2 = {b}\")\n",
    "\n"
   ]
  },
  {
   "cell_type": "code",
   "execution_count": null,
   "id": "47692605-0712-4700-9f82-8e54d97d37ec",
   "metadata": {},
   "outputs": [],
   "source": []
  }
 ],
 "metadata": {
  "kernelspec": {
   "display_name": "Python 3 (ipykernel)",
   "language": "python",
   "name": "python3"
  },
  "language_info": {
   "codemirror_mode": {
    "name": "ipython",
    "version": 3
   },
   "file_extension": ".py",
   "mimetype": "text/x-python",
   "name": "python",
   "nbconvert_exporter": "python",
   "pygments_lexer": "ipython3",
   "version": "3.10.6"
  }
 },
 "nbformat": 4,
 "nbformat_minor": 5
}
