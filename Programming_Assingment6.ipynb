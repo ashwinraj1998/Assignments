{
 "cells": [
  {
   "cell_type": "code",
   "execution_count": 21,
   "id": "50294ac2-0ad9-46cf-a808-41edac25ca4e",
   "metadata": {},
   "outputs": [
    {
     "name": "stdin",
     "output_type": "stream",
     "text": [
      "Enter range of Fibonacci Sequence :  10\n"
     ]
    },
    {
     "name": "stdout",
     "output_type": "stream",
     "text": [
      "0\n",
      "1\n",
      "1\n",
      "2\n",
      "3\n",
      "5\n",
      "8\n",
      "13\n",
      "21\n",
      "34\n"
     ]
    }
   ],
   "source": [
    "#1.\tWrite a Python Program to Display Fibonacci Sequence Using Recursion?\n",
    "\n",
    "def fibo(x):\n",
    "    if x<=1:\n",
    "        return x\n",
    "    else:\n",
    "        return fibo(x-1)+fibo(x-2)\n",
    "    \n",
    "a=int(input(\"Enter range of Fibonacci Sequence : \"))\n",
    "for i in range (a):\n",
    "    print(fibo(i))\n",
    "\n"
   ]
  },
  {
   "cell_type": "code",
   "execution_count": 39,
   "id": "cf87c849-8bfb-4638-824d-b996510c8b42",
   "metadata": {},
   "outputs": [
    {
     "name": "stdin",
     "output_type": "stream",
     "text": [
      "Enter a Numerical Value :  10\n"
     ]
    },
    {
     "data": {
      "text/plain": [
       "3628800"
      ]
     },
     "execution_count": 39,
     "metadata": {},
     "output_type": "execute_result"
    }
   ],
   "source": [
    "#2.\tWrite a Python Program to Find Factorial of Number Using Recursion?\n",
    "def fact(x):\n",
    "    if x==1:\n",
    "        return 1\n",
    "    else:\n",
    "        return x*(fact(x-1))\n",
    "a=int(input(\"Enter a Numerical Value : \")) \n",
    "fact(a)"
   ]
  },
  {
   "cell_type": "code",
   "execution_count": 35,
   "id": "c6c6b305-df08-4d63-9e97-3219cac4e407",
   "metadata": {},
   "outputs": [
    {
     "name": "stdin",
     "output_type": "stream",
     "text": [
      "Enter your Height in (cm) :  180\n",
      "Enter your Weight in (kgs):  85\n"
     ]
    },
    {
     "name": "stdout",
     "output_type": "stream",
     "text": [
      "\n",
      "Your BMI value is 26.23 kg/m2\n",
      "\n",
      "Severe Thinness\t     < 16\n",
      "Moderate Thinness   16 - 17\n",
      "Mild Thinness\t    17 - 18.5\n",
      "Normal\t            18.5 - 25\n",
      "Overweight\t    25 - 30\n",
      "Obese Class I\t    30 - 35\n",
      "Obese Class II\t    35 - 40\n",
      "Obese Class III\t     > 40\n",
      "\n"
     ]
    }
   ],
   "source": [
    "#3.\tWrite a Python Program to calculate your Body Mass Index?\n",
    "\n",
    "a=int(input(\"Enter your Height in (cm) : \"))\n",
    "b=int(input(\"Enter your Weight in (kgs): \"))\n",
    "\n",
    "print(f\"\\nYour BMI value is {b/((a**2)/10000):.2f} kg/m2\")\n",
    "print(\"\"\"\n",
    "Severe Thinness\t     < 16\n",
    "Moderate Thinness   16 - 17\n",
    "Mild Thinness\t    17 - 18.5\n",
    "Normal\t            18.5 - 25\n",
    "Overweight\t    25 - 30\n",
    "Obese Class I\t    30 - 35\n",
    "Obese Class II\t    35 - 40\n",
    "Obese Class III\t     > 40\n",
    "\"\"\")"
   ]
  },
  {
   "cell_type": "code",
   "execution_count": 46,
   "id": "6121be7c-b0ff-489e-8131-131a0cb42a13",
   "metadata": {},
   "outputs": [
    {
     "name": "stdin",
     "output_type": "stream",
     "text": [
      "Enter a Numerical Value :  2\n"
     ]
    },
    {
     "name": "stdout",
     "output_type": "stream",
     "text": [
      "Natural Logarithm ln(2) is 0.6931471805599453\n"
     ]
    }
   ],
   "source": [
    "#4.\tWrite a Python Program to calculate the natural logarithm of any number?\n",
    "from numpy import log as ln\n",
    "import math as m\n",
    "a=int(input(\"Enter a Numerical Value : \")) \n",
    "print(f\"Natural Logarithm ln({a}) is {ln(a)}\")"
   ]
  },
  {
   "cell_type": "code",
   "execution_count": 51,
   "id": "6df74479-7b19-40c6-989a-204aa0da3835",
   "metadata": {},
   "outputs": [
    {
     "name": "stdin",
     "output_type": "stream",
     "text": [
      "Enter a Numerical Value :  5\n"
     ]
    },
    {
     "data": {
      "text/plain": [
       "225"
      ]
     },
     "execution_count": 51,
     "metadata": {},
     "output_type": "execute_result"
    }
   ],
   "source": [
    "#5.\tWrite a Python Program for cube sum of first n natural numbers?\n",
    "def cube (a):\n",
    "    sum=0\n",
    "    for i in range (1,a+1):\n",
    "        sum = sum + (i**3)\n",
    "    return sum\n",
    "a=int(input(\"Enter a Numerical Value : \")) \n",
    "cube(a)\n"
   ]
  },
  {
   "cell_type": "code",
   "execution_count": null,
   "id": "db1a8587-e49d-4fe1-b263-722dbdb0d0ce",
   "metadata": {},
   "outputs": [],
   "source": []
  }
 ],
 "metadata": {
  "kernelspec": {
   "display_name": "Python 3 (ipykernel)",
   "language": "python",
   "name": "python3"
  },
  "language_info": {
   "codemirror_mode": {
    "name": "ipython",
    "version": 3
   },
   "file_extension": ".py",
   "mimetype": "text/x-python",
   "name": "python",
   "nbconvert_exporter": "python",
   "pygments_lexer": "ipython3",
   "version": "3.10.6"
  }
 },
 "nbformat": 4,
 "nbformat_minor": 5
}
