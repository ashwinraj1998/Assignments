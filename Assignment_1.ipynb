{
 "cells": [
  {
   "cell_type": "code",
   "execution_count": null,
   "id": "81b534ca",
   "metadata": {},
   "outputs": [],
   "source": [
    "## 1. In the below elements which of them are values or an expression? eg:- values can be integer or string and expressions will be mathematical operators.\n",
    "\"\"\" \n",
    "*        - Expression\n",
    "'hello'  - Values\n",
    "-87.8    - Values\n",
    "-        - Expression\n",
    "/        - Expression\n",
    "+        - Expression\n",
    "6        - Values\n",
    "\"\"\""
   ]
  },
  {
   "cell_type": "code",
   "execution_count": null,
   "id": "3a4675c1",
   "metadata": {},
   "outputs": [],
   "source": [
    "## 2. What is the difference between string and variable?\n",
    "\n",
    "\"\"\" Variables are symbols that you can use to store data in a program. \n",
    "    It is an empty box to fill with some data or value. \n",
    "    Strings are data, so we can use them to fill up a variable.\"\"\""
   ]
  },
  {
   "cell_type": "code",
   "execution_count": null,
   "id": "1663d785",
   "metadata": {},
   "outputs": [],
   "source": [
    "## 3. Describe three different data types.\n",
    "\n",
    "\"\"\" Integer - int  (Numerical values without any decimal point. Ex: 10,20,-52,0,65)\n",
    "    Float   - float (Numerical valuse with decimal point in it. Ex: 10.25, 5/7, 0.50)\n",
    "    String  - str (When numbers and alphabets are enclosed with \" \" acts as string)\n",
    "    Complex - complex (Numerical values having both real and imaginary values in it. Ex. 5+5j )\n",
    "\"\"\""
   ]
  },
  {
   "cell_type": "code",
   "execution_count": null,
   "id": "00eb8cc1",
   "metadata": {},
   "outputs": [],
   "source": [
    "## 4. What is an expression made up of? What do all expressions do?\n",
    "\n",
    "\"\"\"\n",
    "    An expression is a combination of operators, constants and variables. \n",
    "    An expression may consist of one or more operands, and zero or more operators to produce a value.\n",
    "\"\"\""
   ]
  },
  {
   "cell_type": "code",
   "execution_count": null,
   "id": "5c45e993",
   "metadata": {},
   "outputs": [],
   "source": [
    "## 5. This assignment statements, like spam = 10. What is the difference between an expression and a statement?\n",
    "\n",
    "\"\"\"\n",
    "    Expressions produce a value, and that value will be passed into the function. \n",
    "    Statements don't produce a value, and so they can't be used as function arguments.\n",
    "\"\"\""
   ]
  },
  {
   "cell_type": "code",
   "execution_count": null,
   "id": "e64c3ae0",
   "metadata": {},
   "outputs": [],
   "source": [
    "## 6. After running the following code, what does the variable bacon contain? bacon = 22 bacon + 1\n",
    "\n",
    "\"\"\" bacon = 23\"\"\""
   ]
  },
  {
   "cell_type": "code",
   "execution_count": null,
   "id": "0a369001",
   "metadata": {},
   "outputs": [],
   "source": [
    "## 7. What should the values of the following two terms be? \n",
    "\n",
    "'spam' + 'spamspam' = spamspamspam\n",
    "'spam' * 3          = spamspamspam\n"
   ]
  },
  {
   "cell_type": "code",
   "execution_count": null,
   "id": "3617cb97",
   "metadata": {},
   "outputs": [],
   "source": [
    "## 8. Why is eggs a valid variable name while 100 is invalid?\n",
    "\n",
    "\"\"\"\n",
    "    Variable name should start with aplhabets not with numbers.\n",
    "    Variable names should not contain any special characters like ^ % $ ! @ # ^ & *()\n",
    "    Variable names can contain numbers but you can't start with numbers.\n",
    "\"\"\" "
   ]
  },
  {
   "cell_type": "code",
   "execution_count": 4,
   "id": "0f44b3c0",
   "metadata": {},
   "outputs": [
    {
     "name": "stdout",
     "output_type": "stream",
     "text": [
      "55\n",
      "20.0\n",
      "20\n"
     ]
    }
   ],
   "source": [
    "## 9.What three functions can be used to get the integer, floating-point number, or string version of a value?\n",
    "\n",
    "a,b = \"55\",20\n",
    "print(int(a))\n",
    "print(float(b))\n",
    "print(str(b))\n",
    "\n"
   ]
  },
  {
   "cell_type": "code",
   "execution_count": 6,
   "id": "9b4cb306",
   "metadata": {},
   "outputs": [
    {
     "data": {
      "text/plain": [
       "'I have eaten 99 burritos.'"
      ]
     },
     "execution_count": 6,
     "metadata": {},
     "output_type": "execute_result"
    }
   ],
   "source": [
    "## 10. Why does this expression cause an error? How can you fix it? 'I have eaten ' + 99 + ' burritos.'\n",
    "\n",
    "\"\"\"\n",
    "    Because concatenated can be done between same data type values.\n",
    "    'I have eaten '  - str\n",
    "    99               - int\n",
    "    'burritos.'      - str\n",
    "    \n",
    "    It can be fixed by following code.\n",
    "\"\"\"\n",
    "'I have eaten ' + \"99\" + ' burritos.'"
   ]
  },
  {
   "cell_type": "code",
   "execution_count": null,
   "id": "a3093361",
   "metadata": {},
   "outputs": [],
   "source": []
  }
 ],
 "metadata": {
  "kernelspec": {
   "display_name": "Python 3 (ipykernel)",
   "language": "python",
   "name": "python3"
  },
  "language_info": {
   "codemirror_mode": {
    "name": "ipython",
    "version": 3
   },
   "file_extension": ".py",
   "mimetype": "text/x-python",
   "name": "python",
   "nbconvert_exporter": "python",
   "pygments_lexer": "ipython3",
   "version": "3.9.12"
  }
 },
 "nbformat": 4,
 "nbformat_minor": 5
}
