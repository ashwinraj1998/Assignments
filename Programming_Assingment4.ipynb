{
 "cells": [
  {
   "cell_type": "code",
   "execution_count": 2,
   "id": "21b24839-ebb3-49d7-999c-feff0c9e7a1e",
   "metadata": {},
   "outputs": [
    {
     "name": "stdin",
     "output_type": "stream",
     "text": [
      "Enter a Numerical Value :  5\n"
     ]
    },
    {
     "name": "stdout",
     "output_type": "stream",
     "text": [
      "\n",
      "Factorial of Number 5 is 120\n"
     ]
    }
   ],
   "source": [
    "#1.\tWrite a Python Program to Find the Factorial of a Number?\n",
    "import math as m\n",
    "\n",
    "a=int(input(\"Enter a Numerical Value : \"))\n",
    "print(f\"\\nFactorial of Number {a} is {m.factorial(a)}\")\n"
   ]
  },
  {
   "cell_type": "code",
   "execution_count": 4,
   "id": "d17b3828-3270-4947-8a1a-08539bd74c1b",
   "metadata": {},
   "outputs": [
    {
     "name": "stdin",
     "output_type": "stream",
     "text": [
      "Enter a Numerical Value :  5\n"
     ]
    },
    {
     "name": "stdout",
     "output_type": "stream",
     "text": [
      "\n",
      "Factorial of Number 5 is 120\n"
     ]
    }
   ],
   "source": [
    "#1.\tWrite a Python Program to Find the Factorial of a Number?\n",
    "\n",
    "def fact(x):\n",
    "    if x==1:\n",
    "        return 1\n",
    "    else:\n",
    "        return (x*fact(x-1))\n",
    "a=int(input(\"Enter a Numerical Value : \"))\n",
    "print(f\"\\nFactorial of Number {a} is {fact(a)}\")"
   ]
  },
  {
   "cell_type": "code",
   "execution_count": 11,
   "id": "81102a65-095d-4439-ad7b-f5c77068720e",
   "metadata": {},
   "outputs": [
    {
     "name": "stdin",
     "output_type": "stream",
     "text": [
      "Enter a Numerical Value :  101\n",
      "Enter Range Value :  5\n"
     ]
    },
    {
     "name": "stdout",
     "output_type": "stream",
     "text": [
      "101 x 1 = 101\n",
      "101 x 2 = 202\n",
      "101 x 3 = 303\n",
      "101 x 4 = 404\n",
      "101 x 5 = 505\n"
     ]
    }
   ],
   "source": [
    "#2.\tWrite a Python Program to Display the multiplication Table?\n",
    "a=int(input(\"Enter a Numerical Value : \"))\n",
    "b=int(input(\"Enter Range Value : \"))\n",
    "\n",
    "for i in range (1,b+1):\n",
    "    print(f\"{a} x {i} = {a*i}\")\n",
    "    \n",
    "          \n",
    "          \n",
    "\n"
   ]
  },
  {
   "cell_type": "code",
   "execution_count": 29,
   "id": "9aed5af2-5c57-4b35-88c3-dcff11ca708e",
   "metadata": {},
   "outputs": [
    {
     "name": "stdin",
     "output_type": "stream",
     "text": [
      "Enter No. of Values to be printed :  10\n"
     ]
    },
    {
     "name": "stdout",
     "output_type": "stream",
     "text": [
      "0\n",
      "1\n",
      "1\n",
      "2\n",
      "3\n",
      "5\n",
      "8\n",
      "13\n",
      "21\n",
      "34\n"
     ]
    }
   ],
   "source": [
    "#3.\tWrite a Python Program to Print the Fibonacci sequence?\n",
    "\n",
    "x=int(input(\"Enter No. of Values to be printed : \"))\n",
    "sum=0\n",
    "a=0\n",
    "b=1\n",
    "if x<=1:\n",
    "    print(a)\n",
    "else:\n",
    "    print(a)\n",
    "    for i in range(x-1):\n",
    "        sum = a+b\n",
    "        b=a\n",
    "        a=sum\n",
    "        print(sum)\n",
    "    "
   ]
  },
  {
   "cell_type": "code",
   "execution_count": 62,
   "id": "c16f8425-9ff7-4428-aa85-18605dd52eea",
   "metadata": {},
   "outputs": [
    {
     "name": "stdin",
     "output_type": "stream",
     "text": [
      "Enter a Numerical Value :  153\n"
     ]
    },
    {
     "name": "stdout",
     "output_type": "stream",
     "text": [
      "153 is an Armstrong Number\n"
     ]
    }
   ],
   "source": [
    "#4.\tWrite a Python Program to Check Armstrong Number?\n",
    "\n",
    "a=int(input(\"Enter a Numerical Value : \"))\n",
    "b=str(a)\n",
    "sum=0\n",
    "for i in range (0,len(b)):\n",
    "    d = int(b[i])**len(b)\n",
    "    sum = sum + d\n",
    "if sum==a:\n",
    "    print(f\"{a} is an Armstrong Number\")\n",
    "else:\n",
    "    print(f\"{a} is not an Armstrong Number\")"
   ]
  },
  {
   "cell_type": "code",
   "execution_count": 69,
   "id": "fad49888-073f-4ea9-be8b-ea47f29e54b4",
   "metadata": {},
   "outputs": [
    {
     "name": "stdin",
     "output_type": "stream",
     "text": [
      "Enter Start Range :  1\n",
      "Enter End Range :  999\n"
     ]
    },
    {
     "name": "stdout",
     "output_type": "stream",
     "text": [
      "1 2 3 4 5 6 7 8 9 153 370 371 407 "
     ]
    }
   ],
   "source": [
    "#5.\tWrite a Python Program to Find Armstrong Number in an Interval?\n",
    "a=int(input(\"Enter Start Range : \"))\n",
    "b=int(input(\"Enter End Range : \"))\n",
    "for i in range (a,b+1):\n",
    "    c=str(i)\n",
    "    sum=0\n",
    "    for j in range (0,len(c)):\n",
    "        e=int(c[j])**len(c)\n",
    "        sum = sum+e\n",
    "    if sum == int(c):\n",
    "        print(c,end=\" \")"
   ]
  },
  {
   "cell_type": "code",
   "execution_count": 73,
   "id": "6c5e2fe4-5d9f-47af-8e4d-0cc0000f8734",
   "metadata": {},
   "outputs": [
    {
     "name": "stdin",
     "output_type": "stream",
     "text": [
      "Enter No. of Natural Numbers :  15\n"
     ]
    },
    {
     "name": "stdout",
     "output_type": "stream",
     "text": [
      "\n",
      "The sum of First 15 Natural Numbers is 120\n"
     ]
    }
   ],
   "source": [
    "#6.\tWrite a Python Program to Find the Sum of Natural Numbers?\n",
    "\n",
    "x=int(input(\"Enter No. of Natural Numbers : \"))\n",
    "sum=0\n",
    "for i in range(1,x+1):\n",
    "    sum = sum + i\n",
    "print(f\"\\nThe sum of First {x} Natural Numbers is {sum}\")"
   ]
  },
  {
   "cell_type": "code",
   "execution_count": null,
   "id": "03460f98-1f53-447f-8d13-6bfe946f720a",
   "metadata": {},
   "outputs": [],
   "source": []
  }
 ],
 "metadata": {
  "kernelspec": {
   "display_name": "Python 3 (ipykernel)",
   "language": "python",
   "name": "python3"
  },
  "language_info": {
   "codemirror_mode": {
    "name": "ipython",
    "version": 3
   },
   "file_extension": ".py",
   "mimetype": "text/x-python",
   "name": "python",
   "nbconvert_exporter": "python",
   "pygments_lexer": "ipython3",
   "version": "3.10.6"
  }
 },
 "nbformat": 4,
 "nbformat_minor": 5
}
