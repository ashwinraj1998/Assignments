{
 "cells": [
  {
   "cell_type": "code",
   "execution_count": 6,
   "id": "1ae44d60",
   "metadata": {},
   "outputs": [
    {
     "name": "stdout",
     "output_type": "stream",
     "text": [
      "Enter array of numbers (seperate by comma): 1,2,4,5,7,6,3,9,7,4\n",
      "Sum : 48\n"
     ]
    }
   ],
   "source": [
    "#1.Write a Python Program to find sum of array?\n",
    "def sum(a):\n",
    "    tot=0\n",
    "    for i in a:\n",
    "        tot = tot + int(i)\n",
    "    return tot\n",
    "a=list(input(\"Enter array of numbers (seperate by comma): \").split(\",\"))\n",
    "print(f\"Sum : {sum(a)}\")"
   ]
  },
  {
   "cell_type": "code",
   "execution_count": 11,
   "id": "b777913d",
   "metadata": {},
   "outputs": [
    {
     "name": "stdout",
     "output_type": "stream",
     "text": [
      "Enter array of numbers (seperate by comma): 1,45,1,8,645,644,76954,642\n",
      "Largest Element : 76954\n"
     ]
    }
   ],
   "source": [
    "#2.Write a Python Program to find largest element in an array?\n",
    "def max_array(a):\n",
    "    c=0\n",
    "    for i in a:\n",
    "        if int(i)>c:\n",
    "            c=int(i)\n",
    "    return c\n",
    "a=list(input(\"Enter array of numbers (seperate by comma): \").split(\",\"))\n",
    "print(f\"Largest Element : {max_array(a)}\")"
   ]
  },
  {
   "cell_type": "code",
   "execution_count": 53,
   "id": "2fef4c1c",
   "metadata": {},
   "outputs": [
    {
     "name": "stdout",
     "output_type": "stream",
     "text": [
      "Enter array of numbers (seperate by comma): 1, 2, 3, 4, 5, 6, 7\n",
      "Enter the index for rotation : 3\n",
      "[4, 5, 6, 7, 1, 2, 3]\n"
     ]
    }
   ],
   "source": [
    "#3.Write a Python Program for array rotation?\n",
    "a=input(\"Enter array of numbers (seperate by comma): \").split(\",\")\n",
    "c=int(input(\"Enter the index for rotation : \"))\n",
    "b=[]\n",
    "b=a[c:len(a)]+a[0:c]\n",
    "b = list(map(lambda x: int(x),b))\n",
    "print(b)"
   ]
  },
  {
   "cell_type": "code",
   "execution_count": 55,
   "id": "336282bd",
   "metadata": {},
   "outputs": [
    {
     "name": "stdout",
     "output_type": "stream",
     "text": [
      "Enter array of numbers (seperate by comma): 12,10,5,6,52,36\n",
      "Enter the index to split : 2\n",
      "[5, 6, 52, 36, 12, 10]\n"
     ]
    }
   ],
   "source": [
    "#4.Write a Python Program to Split the array and add the first part to the end?\n",
    "a=input(\"Enter array of numbers (seperate by comma): \").split(\",\")\n",
    "c=int(input(\"Enter the index to split : \"))\n",
    "b=[]\n",
    "b=a[c:len(a)]+a[0:c]\n",
    "b = list(map(lambda x: int(x),b))\n",
    "print(b)"
   ]
  },
  {
   "cell_type": "code",
   "execution_count": 111,
   "id": "7c8da838",
   "metadata": {},
   "outputs": [
    {
     "name": "stdout",
     "output_type": "stream",
     "text": [
      "Enter array of numbers (seperate by comma): 10,12,10,15\n",
      "False\n"
     ]
    }
   ],
   "source": [
    "#5.Write a Python Program to check if given array is Monotonic?\n",
    "def monotonic_array(a):\n",
    "    return (a.sort() == a) or (a.sort(reverse=True)==a)\n",
    "a=list(input(\"Enter array of numbers (seperate by comma): \").split(\",\"))\n",
    "a = list(map(lambda x: int(x),a))\n",
    "print(monotonic(a))"
   ]
  },
  {
   "cell_type": "code",
   "execution_count": 113,
   "id": "fb130995",
   "metadata": {},
   "outputs": [
    {
     "name": "stdout",
     "output_type": "stream",
     "text": [
      "Enter array of numbers (seperate by comma): 10,5,4,3,5,1\n",
      "False\n"
     ]
    }
   ],
   "source": [
    "#5.Write a Python Program to check if given array is Monotonic?\n",
    "def monotonic(a):\n",
    "    return (all (a[i]>=a[i+1] for i in range (len(a)-1)) or all (a[i]<=a[i+1] for i in range (len(a)-1)))\n",
    "\n",
    "a=list(input(\"Enter array of numbers (seperate by comma): \").split(\",\"))\n",
    "a = list(map(lambda x: int(x),a))\n",
    "print(monotonic(a))"
   ]
  },
  {
   "cell_type": "code",
   "execution_count": null,
   "id": "e5fc4c5a",
   "metadata": {},
   "outputs": [],
   "source": []
  },
  {
   "cell_type": "code",
   "execution_count": null,
   "id": "9af78365",
   "metadata": {},
   "outputs": [],
   "source": []
  }
 ],
 "metadata": {
  "kernelspec": {
   "display_name": "Python 3 (ipykernel)",
   "language": "python",
   "name": "python3"
  },
  "language_info": {
   "codemirror_mode": {
    "name": "ipython",
    "version": 3
   },
   "file_extension": ".py",
   "mimetype": "text/x-python",
   "name": "python",
   "nbconvert_exporter": "python",
   "pygments_lexer": "ipython3",
   "version": "3.9.12"
  }
 },
 "nbformat": 4,
 "nbformat_minor": 5
}
