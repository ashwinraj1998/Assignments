{
 "cells": [
  {
   "cell_type": "code",
   "execution_count": 23,
   "id": "b5451c90-a37e-450d-a1fc-9cbc2e81322c",
   "metadata": {},
   "outputs": [
    {
     "name": "stdin",
     "output_type": "stream",
     "text": [
      "Enter the numerical values :  15,27,42\n"
     ]
    },
    {
     "name": "stdout",
     "output_type": "stream",
     "text": [
      "\n",
      "The LCM of ['15', '27', '42'] is 1890\n"
     ]
    }
   ],
   "source": [
    "#1.\tWrite a Python Program to Find LCM?\n",
    "a=list(input(\"Enter the numerical values : \").split(\",\"))\n",
    "x=1\n",
    "\n",
    "while x>=1:\n",
    "    c=0\n",
    "    for i in a:\n",
    "        if x%int(i)==0:\n",
    "            c=c+1\n",
    "    if c==len(a):\n",
    "        print(f\"\\nThe LCM of {a} is {x}\")\n",
    "        break\n",
    "    x=x+1"
   ]
  },
  {
   "cell_type": "code",
   "execution_count": 30,
   "id": "73d6a40f-f2b3-496c-900c-ea38237dd3ab",
   "metadata": {},
   "outputs": [
    {
     "name": "stdin",
     "output_type": "stream",
     "text": [
      "Enter the numerical values :  60,48\n"
     ]
    },
    {
     "name": "stdout",
     "output_type": "stream",
     "text": [
      "The HCF of ['60', '48'] is 12\n"
     ]
    }
   ],
   "source": [
    "#2.\tWrite a Python Program to Find HCF?\n",
    "\n",
    "#axbxxc..= hcf x lcm\n",
    "\n",
    "a=list(input(\"Enter the numerical values : \").split(\",\"))\n",
    "b,x=1,1\n",
    "for i in a:\n",
    "    b=b*int(i)\n",
    "while x>=1:\n",
    "    c=0\n",
    "    for i in a:\n",
    "        if x%int(i)==0:\n",
    "            c=c+1\n",
    "    if c==len(a):\n",
    "        d=x\n",
    "        break\n",
    "    x=x+1\n",
    "print(f\"The HCF of {a} is {int(b/d)}\")"
   ]
  },
  {
   "cell_type": "code",
   "execution_count": 9,
   "id": "869ff6ee-1b46-4f6b-8d51-a994105ec03c",
   "metadata": {},
   "outputs": [
    {
     "name": "stdin",
     "output_type": "stream",
     "text": [
      "Enter a Numerical Value :  500\n"
     ]
    },
    {
     "name": "stdout",
     "output_type": "stream",
     "text": [
      "\n",
      "The Binary Equivalent is 111110100\n",
      "The Octal Equivalent is 764\n",
      "The Hexadecimal Equivalent is 1f4\n"
     ]
    }
   ],
   "source": [
    "#3.\tWrite a Python Program to Convert Decimal to Binary, Octal and Hexadecimal\n",
    "\n",
    "y=int(input(\"Enter a Numerical Value : \"))\n",
    "\n",
    "print(f\"\\nThe Binary Equivalent is {bin(y).replace('0b','')}\")\n",
    "print(f\"The Octal Equivalent is {oct(y).replace('0o','')}\")\n",
    "print(f\"The Hexadecimal Equivalent is {hex(y).replace('0x','')}\")\n"
   ]
  },
  {
   "cell_type": "code",
   "execution_count": 22,
   "id": "f5d9177f-667c-4e93-afeb-7277c8dd59d7",
   "metadata": {},
   "outputs": [
    {
     "name": "stdin",
     "output_type": "stream",
     "text": [
      "Enter a Value :  %\n"
     ]
    },
    {
     "name": "stdout",
     "output_type": "stream",
     "text": [
      "\n",
      "The ASCII Value of % is 37\n"
     ]
    }
   ],
   "source": [
    "#4.\tWrite a Python Program To Find ASCII value of a character\n",
    "a=input(\"Enter a Value : \")\n",
    "print(f\"\\nThe ASCII Value of {a} is {ord(a)}\")"
   ]
  },
  {
   "cell_type": "code",
   "execution_count": 5,
   "id": "0a5c3ba0-b3a6-402f-80c3-6ef69be4e85b",
   "metadata": {},
   "outputs": [
    {
     "name": "stdout",
     "output_type": "stream",
     "text": [
      "1 - Addition\n",
      "2 - Subraction\n",
      "3 - Multiplication\n",
      "4 - Division\n"
     ]
    },
    {
     "name": "stdin",
     "output_type": "stream",
     "text": [
      "\n",
      "Please enter the number to perform the operation :  25\n"
     ]
    },
    {
     "name": "stdout",
     "output_type": "stream",
     "text": [
      "\n",
      "Please enter the valid number for operation\n"
     ]
    },
    {
     "name": "stdin",
     "output_type": "stream",
     "text": [
      "\n",
      "Please enter the number to perform the operation :  1\n",
      "Enter the Values :  25\n",
      "Enter the Values :  74\n"
     ]
    },
    {
     "name": "stdout",
     "output_type": "stream",
     "text": [
      "The Sum of 25 and 74 is 99\n"
     ]
    },
    {
     "name": "stdin",
     "output_type": "stream",
     "text": [
      "\n",
      "Do want to perform calculation further (Yes/No) :  yes\n",
      "\n",
      "Please enter the number to perform the operation :  3\n",
      "Enter the Values :  98\n",
      "Enter the Values :  45\n"
     ]
    },
    {
     "name": "stdout",
     "output_type": "stream",
     "text": [
      "The Product of 98 and 45 is 4410\n"
     ]
    },
    {
     "name": "stdin",
     "output_type": "stream",
     "text": [
      "\n",
      "Do want to perform calculation further (Yes/No) :  no\n"
     ]
    }
   ],
   "source": [
    "#5.\tWrite a Python Program to Make a Simple Calculator with 4 basic mathematical operations\n",
    "\n",
    "print(\"\"\"1 - Addition\n",
    "2 - Subraction\n",
    "3 - Multiplication\n",
    "4 - Division\"\"\")\n",
    "\n",
    "while True:\n",
    "    a = int(input(\"\\nPlease enter the number to perform the operation : \"))\n",
    "    if a>=1 and a<=4:\n",
    "        b = int(input(\"Enter the Values : \"))\n",
    "        c = int(input(\"Enter the Values : \"))\n",
    "        if a == 1:\n",
    "            print(f\"The Sum of {b} and {c} is {b+c}\")\n",
    "        elif a == 2:\n",
    "            print(f\"The Difference between {b} and {c} is {b-c}\")\n",
    "        elif a == 3:\n",
    "            print(f\"The Product of {b} and {c} is {b*c}\")\n",
    "        elif a == 4:\n",
    "            print(f\"The Division of {b} by {c} is {b/c}\")\n",
    "        d=input(\"\\nDo want to perform calculation further (Yes/No) : \")\n",
    "        if d.upper() == \"NO\":\n",
    "            break\n",
    "    else:\n",
    "        print(\"\\nPlease enter the valid number for operation\")\n",
    "\n",
    "\n",
    "\n"
   ]
  },
  {
   "cell_type": "code",
   "execution_count": null,
   "id": "3676d927-f6a1-4822-962d-3a0f6564ed92",
   "metadata": {},
   "outputs": [],
   "source": []
  }
 ],
 "metadata": {
  "kernelspec": {
   "display_name": "Python 3 (ipykernel)",
   "language": "python",
   "name": "python3"
  },
  "language_info": {
   "codemirror_mode": {
    "name": "ipython",
    "version": 3
   },
   "file_extension": ".py",
   "mimetype": "text/x-python",
   "name": "python",
   "nbconvert_exporter": "python",
   "pygments_lexer": "ipython3",
   "version": "3.10.6"
  }
 },
 "nbformat": 4,
 "nbformat_minor": 5
}
